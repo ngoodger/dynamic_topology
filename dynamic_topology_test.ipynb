{
 "cells": [
  {
   "cell_type": "code",
   "execution_count": 8,
   "metadata": {},
   "outputs": [
    {
     "name": "stdout",
     "output_type": "stream",
     "text": [
      "pygame 1.9.4\n",
      "Hello from the pygame community. https://www.pygame.org/contribute.html\n"
     ]
    }
   ],
   "source": [
    "import numpy as np\n",
    "from torch.utils.data import DataLoader\n",
    "from torch import nn\n",
    "import random\n",
    "import pygame\n",
    "import math\n",
    "import torch\n",
    "from torch import optim\n",
    "import time\n",
    "import load\n",
    "from models import EncoderRNN, DecoderRNN, NeighbourhoodFullyConnected, NeighbourhoodFullyConnectedDecoder\n",
    "import load_topology_dataset\n",
    "from load_topology_dataset import MAX_CELL_COUNT, MIN_CELL_COUNT, IMAGE_SIZE\n",
    "device = \"cpu\""
   ]
  },
  {
   "cell_type": "markdown",
   "metadata": {},
   "source": [
    "# Simplifying Assumptions\n",
    "1. No multiple carriers.\n",
    "2. Locations of loads and cells discretized to grid of resolution IMAGE_SIZE\n",
    "3. Cells are not limited by capacity\n",
    "4. Distribution of load follows inverse square of distance.\n",
    "5. Cells are omnidirectional.\n",
    "6. Load is constant.\n",
    "7. Only a maximum of 1 cell changes (addition or removal) at a time."
   ]
  },
  {
   "cell_type": "code",
   "execution_count": 5,
   "metadata": {},
   "outputs": [
    {
     "data": {
      "text/plain": [
       "[(2, 12, 0.6709275647328745), (31, 0, 0.3290724352671256)]"
      ]
     },
     "execution_count": 5,
     "metadata": {},
     "output_type": "execute_result"
    }
   ],
   "source": [
    "test_loads = ((1,12), (22, 22))\n",
    "test_loads = [(1,12)]\n",
    "test_cells = [(2, 12), (31, 0)]\n",
    "load.calculate_cell_load(cells=test_cells, loads=test_loads)"
   ]
  },
  {
   "cell_type": "markdown",
   "metadata": {},
   "source": [
    "# Early Fusion"
   ]
  },
  {
   "cell_type": "code",
   "execution_count": 9,
   "metadata": {},
   "outputs": [
    {
     "ename": "KeyboardInterrupt",
     "evalue": "",
     "output_type": "error",
     "traceback": [
      "\u001b[0;31m---------------------------------------------------------------------------\u001b[0m",
      "\u001b[0;31mKeyboardInterrupt\u001b[0m                         Traceback (most recent call last)",
      "\u001b[0;32m<ipython-input-9-4c858334bc0b>\u001b[0m in \u001b[0;36m<module>\u001b[0;34m\u001b[0m\n\u001b[1;32m     77\u001b[0m \u001b[0;34m\u001b[0m\u001b[0m\n\u001b[1;32m     78\u001b[0m \u001b[0;34m\u001b[0m\u001b[0m\n\u001b[0;32m---> 79\u001b[0;31m     \u001b[0mloss\u001b[0m\u001b[0;34m.\u001b[0m\u001b[0mbackward\u001b[0m\u001b[0;34m(\u001b[0m\u001b[0;34m)\u001b[0m\u001b[0;34m\u001b[0m\u001b[0m\n\u001b[0m\u001b[1;32m     80\u001b[0m     \u001b[0mavg_loss_window\u001b[0m\u001b[0;34m[\u001b[0m\u001b[0mavg_loss_window_idx\u001b[0m\u001b[0;34m]\u001b[0m \u001b[0;34m=\u001b[0m \u001b[0mloss\u001b[0m\u001b[0;34m.\u001b[0m\u001b[0mdata\u001b[0m\u001b[0;34m\u001b[0m\u001b[0m\n\u001b[1;32m     81\u001b[0m     \u001b[0;32mif\u001b[0m \u001b[0mavg_loss_window_idx\u001b[0m \u001b[0;34m>=\u001b[0m \u001b[0mPRINT_LOSS_EVERY\u001b[0m \u001b[0;34m-\u001b[0m \u001b[0;36m1\u001b[0m\u001b[0;34m:\u001b[0m\u001b[0;34m\u001b[0m\u001b[0m\n",
      "\u001b[0;32m/usr/local/lib/python3.7/site-packages/torch/tensor.py\u001b[0m in \u001b[0;36mbackward\u001b[0;34m(self, gradient, retain_graph, create_graph)\u001b[0m\n\u001b[1;32m    100\u001b[0m                 \u001b[0mproducts\u001b[0m\u001b[0;34m.\u001b[0m \u001b[0mDefaults\u001b[0m \u001b[0mto\u001b[0m\u001b[0;31m \u001b[0m\u001b[0;31m`\u001b[0m\u001b[0;31m`\u001b[0m\u001b[0;32mFalse\u001b[0m\u001b[0;31m`\u001b[0m\u001b[0;31m`\u001b[0m\u001b[0;34m.\u001b[0m\u001b[0;34m\u001b[0m\u001b[0m\n\u001b[1;32m    101\u001b[0m         \"\"\"\n\u001b[0;32m--> 102\u001b[0;31m         \u001b[0mtorch\u001b[0m\u001b[0;34m.\u001b[0m\u001b[0mautograd\u001b[0m\u001b[0;34m.\u001b[0m\u001b[0mbackward\u001b[0m\u001b[0;34m(\u001b[0m\u001b[0mself\u001b[0m\u001b[0;34m,\u001b[0m \u001b[0mgradient\u001b[0m\u001b[0;34m,\u001b[0m \u001b[0mretain_graph\u001b[0m\u001b[0;34m,\u001b[0m \u001b[0mcreate_graph\u001b[0m\u001b[0;34m)\u001b[0m\u001b[0;34m\u001b[0m\u001b[0m\n\u001b[0m\u001b[1;32m    103\u001b[0m \u001b[0;34m\u001b[0m\u001b[0m\n\u001b[1;32m    104\u001b[0m     \u001b[0;32mdef\u001b[0m \u001b[0mregister_hook\u001b[0m\u001b[0;34m(\u001b[0m\u001b[0mself\u001b[0m\u001b[0;34m,\u001b[0m \u001b[0mhook\u001b[0m\u001b[0;34m)\u001b[0m\u001b[0;34m:\u001b[0m\u001b[0;34m\u001b[0m\u001b[0m\n",
      "\u001b[0;32m/usr/local/lib/python3.7/site-packages/torch/autograd/__init__.py\u001b[0m in \u001b[0;36mbackward\u001b[0;34m(tensors, grad_tensors, retain_graph, create_graph, grad_variables)\u001b[0m\n\u001b[1;32m     88\u001b[0m     Variable._execution_engine.run_backward(\n\u001b[1;32m     89\u001b[0m         \u001b[0mtensors\u001b[0m\u001b[0;34m,\u001b[0m \u001b[0mgrad_tensors\u001b[0m\u001b[0;34m,\u001b[0m \u001b[0mretain_graph\u001b[0m\u001b[0;34m,\u001b[0m \u001b[0mcreate_graph\u001b[0m\u001b[0;34m,\u001b[0m\u001b[0;34m\u001b[0m\u001b[0m\n\u001b[0;32m---> 90\u001b[0;31m         allow_unreachable=True)  # allow_unreachable flag\n\u001b[0m\u001b[1;32m     91\u001b[0m \u001b[0;34m\u001b[0m\u001b[0m\n\u001b[1;32m     92\u001b[0m \u001b[0;34m\u001b[0m\u001b[0m\n",
      "\u001b[0;31mKeyboardInterrupt\u001b[0m: "
     ]
    }
   ],
   "source": [
    "INPUT_SEQ_LEN = 5\n",
    "TARGET_SEQ_LEN = 5\n",
    "HIDDEN_SIZE = 32\n",
    "# TODO fix BATCH_SIZE > 1 is bugged.\n",
    "BATCH_SIZE = 1\n",
    "TEACHER_FORCING_PROB = 0.5\n",
    "LEARNING_RATE = 1e-4\n",
    "PRINT_LOSS_EVERY = 1000\n",
    "neighbourhood_fully_connected = NeighbourhoodFullyConnected(2, 1, 16, 16)\n",
    "neighbourhood_fully_connected_decoder = NeighbourhoodFullyConnectedDecoder(2, 16, 16)\n",
    "encoder = EncoderRNN(1 + 1 + 16, HIDDEN_SIZE)\n",
    "decoder = DecoderRNN(18, HIDDEN_SIZE)\n",
    "cell_load_dataset = load_topology_dataset.LoadCellDataset(initial_cell_counts=(2, 5), initial_load_counts=(2,5),\n",
    "                                    input_seq_len=INPUT_SEQ_LEN, target_seq_len=TARGET_SEQ_LEN, network_mutate_prob=[0.33, 0.66\n",
    "                                                                                                                    ])\n",
    "dataloader = DataLoader(cell_load_dataset, batch_size=BATCH_SIZE,\n",
    "                        shuffle=False, num_workers=1)\n",
    "\n",
    "parameters = (list(neighbourhood_fully_connected.parameters()) + \n",
    "                       list(neighbourhood_fully_connected_decoder.parameters()) +\n",
    "                       list(encoder.parameters()) +\n",
    "                       list(decoder.parameters()))\n",
    "\n",
    "optimizer = optim.Adam(parameters\n",
    "                       , lr=LEARNING_RATE)\n",
    "criterion = nn.MSELoss()\n",
    "avg_loss_window = np.zeros(PRINT_LOSS_EVERY)\n",
    "avg_loss_window_idx = 0\n",
    "\n",
    "for batch_idx, data in enumerate(dataloader):\n",
    "    reference_cell_input =  data[0]\n",
    "    reference_cell_present_input = data[1]\n",
    "    neighbourhood_cell_rel_input = data[2]\n",
    "    neighbourhood_cell_load_input = data[3]\n",
    "    reference_cell_target = data[4]\n",
    "    reference_cell_present_target = data[5]\n",
    "    neighbourhood_cell_rel_target = data[6]\n",
    "    optimizer.zero_grad()\n",
    "    for seq_idx in range(reference_cell_input.size(1)):\n",
    "        neighbourhood_influence = torch.zeros(BATCH_SIZE, 16)\n",
    "        for neighbourhood_cell_idx in range(MAX_CELL_COUNT):\n",
    "            output = neighbourhood_fully_connected(neighbourhood_cell_rel_input[:,seq_idx, neighbourhood_cell_idx, :].view(BATCH_SIZE, 2),\n",
    "                                          neighbourhood_cell_load_input[:,seq_idx, neighbourhood_cell_idx].view(BATCH_SIZE, 1))\n",
    "            neighbourhood_influence = torch.add(neighbourhood_influence, output)\n",
    "        # Concatonate neighbourhood with reference cell time series.\n",
    "        cat_ref_input = (torch.cat((reference_cell_input[:, seq_idx].view(BATCH_SIZE, 1),\n",
    "                                            reference_cell_present_input[:, seq_idx].view(BATCH_SIZE, 1)), dim=1))\n",
    "        encoder_input = torch.cat((cat_ref_input , neighbourhood_influence), dim=1).view(BATCH_SIZE, 1, 1 + 1+ 16)\n",
    "        if seq_idx==0:\n",
    "            encoder_hidden = torch.zeros(1, BATCH_SIZE, HIDDEN_SIZE, device=device)\n",
    "        encoder_output, encoder_hidden = encoder(encoder_input, encoder_hidden)\n",
    "    \n",
    "    for seq_idx in range(reference_cell_target.size(1)):\n",
    "        neighbourhood_influence = torch.zeros(BATCH_SIZE, 16)\n",
    "\n",
    "        for neighbourhood_cell_idx in range(MAX_CELL_COUNT):\n",
    "            output = neighbourhood_fully_connected_decoder(neighbourhood_cell_rel_target[:,seq_idx, neighbourhood_cell_idx, :].view(BATCH_SIZE, 2))\n",
    "            neighbourhood_influence = torch.add(neighbourhood_influence, output)\n",
    "\n",
    "        if seq_idx==0:\n",
    "            decoder_output, decoder_hidden = decoder(reference_cell_input[:, -1].view(BATCH_SIZE, 1),\n",
    "                                                     reference_cell_present_input[:, -1].view(BATCH_SIZE, 1),\n",
    "                                                     neighbourhood_influence.view(BATCH_SIZE, 16),\n",
    "                                                     encoder_hidden)\n",
    "            loss = criterion(decoder_output, reference_cell_target[:, seq_idx])\n",
    "        if random.random() > TEACHER_FORCING_PROB:\n",
    "            decoder_output, decoder_hidden = decoder(reference_cell_target[:, seq_idx - 1].view(BATCH_SIZE, 1),\n",
    "                                                     reference_cell_present_target[:, seq_idx -1].view(BATCH_SIZE, 1),\n",
    "                                                     neighbourhood_influence.view(BATCH_SIZE, 16),\n",
    "                                                     decoder_hidden)\n",
    "        else:\n",
    "            decoder_output, decoder_hidden = decoder(decoder_output.view(BATCH_SIZE, 1),\n",
    "                                                     reference_cell_present_target[:, seq_idx -1].view(BATCH_SIZE, 1),\n",
    "                                                     neighbourhood_influence.view(BATCH_SIZE, 16),\n",
    "                                                     decoder_hidden)\n",
    "            loss += criterion(decoder_output, reference_cell_target[:, seq_idx])\n",
    "\n",
    "            \n",
    "    loss.backward()\n",
    "    avg_loss_window[avg_loss_window_idx] = loss.data\n",
    "    if avg_loss_window_idx >= PRINT_LOSS_EVERY - 1:\n",
    "        avg_loss_window_idx = 0\n",
    "        print(avg_loss_window.mean())\n",
    "        #for param in parameters:\n",
    "            #print(param.shape)\n",
    "            #print(param.grad.data)\n",
    "        print(decoder_output - reference_cell_target[:, seq_idx])\n",
    "    else:\n",
    "        avg_loss_window_idx += 1         \n",
    "    optimizer.step()"
   ]
  },
  {
   "cell_type": "markdown",
   "metadata": {},
   "source": [
    "# Visualisation"
   ]
  },
  {
   "cell_type": "code",
   "execution_count": 10,
   "metadata": {},
   "outputs": [
    {
     "name": "stdout",
     "output_type": "stream",
     "text": [
      "20\n"
     ]
    }
   ],
   "source": [
    "PIXELS = 640\n",
    "LEFT = 1\n",
    "RIGHT = 3\n",
    "INPUT_SCREEN_COUNT = 2\n",
    "TARGET_SCREEN_COUNT = 2\n",
    "SCREEN_COUNT = INPUT_SCREEN_COUNT + TARGET_SCREEN_COUNT\n",
    "\n",
    "PIXELS_PER_BLOCK = int(PIXELS / IMAGE_SIZE)\n",
    "SCALE_ARR = np.ones((PIXELS_PER_BLOCK, PIXELS_PER_BLOCK, 1))\n",
    "print(PIXELS_PER_BLOCK)\n",
    "\n",
    "load_screen = np.zeros((IMAGE_SIZE, IMAGE_SIZE, 1))\n",
    "load_screen[1,12, 0] = 255\n",
    "load_screen[22,22, 0] = 255\n",
    "loads = [(1, 12), (22, 22)]\n",
    "block_img = np.kron(load_screen, SCALE_ARR)\n",
    "\n",
    "screen = pygame.display.set_mode((PIXELS, PIXELS))\n",
    "screens = []\n",
    "\n",
    "#for i in range(SCREEN_COUNT):\n",
    "##    screen_draw = pygame.Surface((PIXELS, PIXELS))\n",
    "#    screens.append(screen_draw)\n",
    "\n",
    "\n",
    "screen_draw_idx = 0\n",
    "\n",
    "\n",
    "draw_on = False\n",
    "last_pos = (0, 0)\n",
    "color = (255, 128, 0)\n",
    "radius = 10\n",
    "device = \"cpu\"\n",
    "\n",
    "block_screen = np.zeros((IMAGE_SIZE, IMAGE_SIZE, 3))\n",
    "\n",
    "model_screen = np.zeros((IMAGE_SIZE, IMAGE_SIZE, 3), dtype=np.uint8)\n",
    "frame = 0\n"
   ]
  },
  {
   "cell_type": "code",
   "execution_count": 13,
   "metadata": {},
   "outputs": [
    {
     "ename": "KeyboardInterrupt",
     "evalue": "",
     "output_type": "error",
     "traceback": [
      "\u001b[0;31m---------------------------------------------------------------------------\u001b[0m",
      "\u001b[0;31mKeyboardInterrupt\u001b[0m                         Traceback (most recent call last)",
      "\u001b[0;32m<ipython-input-13-c9566abdb39b>\u001b[0m in \u001b[0;36m<module>\u001b[0;34m\u001b[0m\n\u001b[1;32m     85\u001b[0m     \u001b[0;32mif\u001b[0m \u001b[0me\u001b[0m\u001b[0;34m.\u001b[0m\u001b[0mtype\u001b[0m \u001b[0;34m==\u001b[0m \u001b[0mpygame\u001b[0m\u001b[0;34m.\u001b[0m\u001b[0mMOUSEBUTTONUP\u001b[0m\u001b[0;34m:\u001b[0m\u001b[0;34m\u001b[0m\u001b[0m\n\u001b[1;32m     86\u001b[0m         \u001b[0mdraw_on\u001b[0m \u001b[0;34m=\u001b[0m \u001b[0;32mFalse\u001b[0m\u001b[0;34m\u001b[0m\u001b[0m\n\u001b[0;32m---> 87\u001b[0;31m     \u001b[0mpygame\u001b[0m\u001b[0;34m.\u001b[0m\u001b[0mdisplay\u001b[0m\u001b[0;34m.\u001b[0m\u001b[0mflip\u001b[0m\u001b[0;34m(\u001b[0m\u001b[0;34m)\u001b[0m\u001b[0;34m\u001b[0m\u001b[0m\n\u001b[0m\u001b[1;32m     88\u001b[0m     \u001b[0mtarget_screen\u001b[0m \u001b[0;34m=\u001b[0m \u001b[0mpygame\u001b[0m\u001b[0;34m.\u001b[0m\u001b[0msurfarray\u001b[0m\u001b[0;34m.\u001b[0m\u001b[0marray3d\u001b[0m\u001b[0;34m(\u001b[0m\u001b[0mscreen_draw\u001b[0m\u001b[0;34m)\u001b[0m\u001b[0;34m\u001b[0m\u001b[0m\n\u001b[1;32m     89\u001b[0m     \u001b[0mdisplay_img\u001b[0m \u001b[0;34m=\u001b[0m \u001b[0mblock_img\u001b[0m \u001b[0;34m+\u001b[0m \u001b[0mtarget_screen\u001b[0m\u001b[0;34m\u001b[0m\u001b[0m\n",
      "\u001b[0;31mKeyboardInterrupt\u001b[0m: "
     ]
    }
   ],
   "source": [
    "screen_draw_idx = 0\n",
    "cells_seq = [list() for i in range(SCREEN_COUNT)]\n",
    "\n",
    "def add_cell_if_not_exists(new_cell, cells):\n",
    "    cell_already_exists = False\n",
    "\n",
    "    for i, cell in enumerate(cells):\n",
    "        if cell[0] == new_cell[0] and cell[1] == new_cell[1]:\n",
    "            cell_already_exists = True\n",
    "            break\n",
    "    if not cell_already_exists:\n",
    "        cells.append(new_cell)\n",
    "    return cells\n",
    "\n",
    "def remove_cell_if_exists(remove_cell, cells):\n",
    "    for i, cell in enumerate(cells):\n",
    "        if cell[0] == remove_cell[0] and cell[1] == remove_cell[1]:\n",
    "            cells.pop(i)\n",
    "            break\n",
    "    return cells\n",
    "\n",
    "while True:\n",
    "    \n",
    "    \n",
    "    screen_draw = pygame.Surface((PIXELS, PIXELS))\n",
    "    \n",
    "    #print(cells_seq)\n",
    "    cells = cells_seq[screen_draw_idx]\n",
    "    if len(cells) > 0:\n",
    "        cell_loads = load.calculate_cell_load(cells, loads)\n",
    "        #print(cell_loads)\n",
    "        #print(loads)\n",
    "\n",
    "\n",
    "\n",
    "        # Update screen\n",
    "        for cell in cell_loads:\n",
    "            color = (cell[2] * 2048) - 512\n",
    "            if color > 255:\n",
    "                color = 255\n",
    "            if color < 0:\n",
    "                color = 0\n",
    "            pygame.draw.rect(\n",
    "            screen_draw,\n",
    "            (color, 50, 0),\n",
    "            (\n",
    "                cell[0] * PIXELS_PER_BLOCK,\n",
    "                cell[1] * PIXELS_PER_BLOCK,\n",
    "                PIXELS_PER_BLOCK,\n",
    "                PIXELS_PER_BLOCK,\n",
    "            ),\n",
    "            )\n",
    "        \n",
    "\n",
    "    e = pygame.event.poll()\n",
    "\n",
    "\n",
    "    if e.type == pygame.QUIT:\n",
    "        raise StopIteration\n",
    "    if e.type == pygame.MOUSEBUTTONDOWN:\n",
    "        leftclick, middleclick, rightclick = pygame.mouse.get_pressed()\n",
    "        x, y = e.pos\n",
    "        x_cell= int(x / PIXELS_PER_BLOCK)\n",
    "        y_cell = int(y / PIXELS_PER_BLOCK)\n",
    "        if leftclick:\n",
    "            cells = add_cell_if_not_exists((x_cell, y_cell), cells)\n",
    "        elif rightclick:\n",
    "            cells = remove_cell_if_exists((x_cell, y_cell), cells)            \n",
    "        draw_on = True\n",
    "        # Update cells\n",
    "        cells_seq[screen_draw_idx] = cells\n",
    "    \n",
    "    if e.type == pygame.KEYDOWN:\n",
    "        if e.key == pygame.K_SPACE:\n",
    "            if freeze:\n",
    "                freeze = False\n",
    "            else:\n",
    "                freeze = True\n",
    "        if e.key ==  pygame.K_LEFT:\n",
    "            if screen_draw_idx > 0:\n",
    "                screen_draw_idx -= 1\n",
    "        if e.key ==  pygame.K_RIGHT:\n",
    "            if screen_draw_idx < SCREEN_COUNT - 1:\n",
    "                screen_draw_idx += 1\n",
    "    if e.type == pygame.MOUSEBUTTONUP:\n",
    "        draw_on = False\n",
    "    pygame.display.flip()\n",
    "    target_screen = pygame.surfarray.array3d(screen_draw)\n",
    "    display_img = block_img + target_screen\n",
    "    new_surf = pygame.pixelcopy.make_surface(display_img.astype(np.uint8))\n",
    "    screen.blit(new_surf, (0, 0))"
   ]
  },
  {
   "cell_type": "code",
   "execution_count": 22,
   "metadata": {},
   "outputs": [
    {
     "ename": "IndexError",
     "evalue": "list index out of range",
     "output_type": "error",
     "traceback": [
      "\u001b[0;31m---------------------------------------------------------------------------\u001b[0m",
      "\u001b[0;31mIndexError\u001b[0m                                Traceback (most recent call last)",
      "\u001b[0;32m<ipython-input-22-aea16059b655>\u001b[0m in \u001b[0;36m<module>\u001b[0;34m\u001b[0m\n\u001b[1;32m    139\u001b[0m         \u001b[0;31m# Update screen\u001b[0m\u001b[0;34m\u001b[0m\u001b[0;34m\u001b[0m\u001b[0m\n\u001b[1;32m    140\u001b[0m     \u001b[0;32mfor\u001b[0m \u001b[0mcell\u001b[0m \u001b[0;32min\u001b[0m \u001b[0mcells_load_seq\u001b[0m\u001b[0;34m:\u001b[0m\u001b[0;34m\u001b[0m\u001b[0m\n\u001b[0;32m--> 141\u001b[0;31m         \u001b[0mcolor\u001b[0m \u001b[0;34m=\u001b[0m \u001b[0;34m(\u001b[0m\u001b[0mcell\u001b[0m\u001b[0;34m[\u001b[0m\u001b[0;36m2\u001b[0m\u001b[0;34m]\u001b[0m \u001b[0;34m*\u001b[0m \u001b[0;36m2048\u001b[0m\u001b[0;34m)\u001b[0m \u001b[0;34m-\u001b[0m \u001b[0;36m512\u001b[0m\u001b[0;34m\u001b[0m\u001b[0m\n\u001b[0m\u001b[1;32m    142\u001b[0m         \u001b[0;32mif\u001b[0m \u001b[0mcolor\u001b[0m \u001b[0;34m>\u001b[0m \u001b[0;36m255\u001b[0m\u001b[0;34m:\u001b[0m\u001b[0;34m\u001b[0m\u001b[0m\n\u001b[1;32m    143\u001b[0m             \u001b[0mcolor\u001b[0m \u001b[0;34m=\u001b[0m \u001b[0;36m255\u001b[0m\u001b[0;34m\u001b[0m\u001b[0m\n",
      "\u001b[0;31mIndexError\u001b[0m: list index out of range"
     ]
    }
   ],
   "source": [
    "screen_draw_idx = 0\n",
    "cells_seq = [list() for i in range(SCREEN_COUNT)]\n",
    "cells_load_seq = [list() for i in range(SCREEN_COUNT)]\n",
    "def add_cell_if_not_exists(new_cell, cells):\n",
    "    cell_already_exists = False\n",
    "\n",
    "    for i, cell in enumerate(cells):\n",
    "        if cell[0] == new_cell[0] and cell[1] == new_cell[1]:\n",
    "            cell_already_exists = True\n",
    "            break\n",
    "    if not cell_already_exists:\n",
    "        cells.append(new_cell)\n",
    "    return cells\n",
    "\n",
    "def remove_cell_if_exists(remove_cell, cells):\n",
    "    for i, cell in enumerate(cells):\n",
    "        if cell[0] == remove_cell[0] and cell[1] == remove_cell[1]:\n",
    "            cells.pop(i)\n",
    "            break\n",
    "    return cells\n",
    "\n",
    "while True:\n",
    "\n",
    "    ##############################\n",
    "    # Use model to forecast future load\n",
    "    ##############################\n",
    "    load_cells_seq_input = cells_load_seq[:INPUT_SCREEN_COUNT]\n",
    "    \n",
    "    for reference_cell in cells_seq[-1]:\n",
    "        ref_x, ref_y = reference_cell[0], reference_cell[1]\n",
    "        reference_cell_input = np.zeros((INPUT_SCREEN_COUNT))\n",
    "        reference_cell_present_input = np.zeros((INPUT_SCREEN_COUNT))\n",
    "        neighbourhood_cell_rel_input = np.zeros((INPUT_SCREEN_COUNT, MAX_CELL_COUNT, 2))\n",
    "        neighbourhood_cell_load_input = np.zeros((INPUT_SCREEN_COUNT, MAX_CELL_COUNT))\n",
    "        neighbourhood_cell_present_input = np.zeros((INPUT_SCREEN_COUNT, MAX_CELL_COUNT))\n",
    "        for seq_idx in range(INPUT_SCREEN_COUNT):\n",
    "            reference_cell_active = False\n",
    "            cell_idx = 0\n",
    "            for cell in load_cells_seq_input[seq_idx]:\n",
    "                current_x = cell[0]\n",
    "                current_y = cell[1]\n",
    "                current_load = cell[2]\n",
    "                # If not reference cell add to neighbourhood\n",
    "                if not (current_x == ref_x and current_y == ref_y):\n",
    "                    # neighbourhood normalized by dividing by IMAGE_SIZE.\n",
    "                    # Subtract from 1 since cells that are closes have greated influence.\n",
    "                    neighbourhood_cell_rel_input[seq_idx, cell_idx, 0] = 1. - (ref_x - current_x) / IMAGE_SIZE\n",
    "                    neighbourhood_cell_rel_input[seq_idx, cell_idx, 1] = 1. - (ref_y - current_y) / IMAGE_SIZE\n",
    "                    neighbourhood_cell_load_input[seq_idx, cell_idx] = current_load\n",
    "                    cell_idx += 1\n",
    "                else:\n",
    "                    reference_cell_input[seq_idx] = current_load\n",
    "                    reference_cell_active = True\n",
    "            if reference_cell_active:\n",
    "                reference_cell_present_input[seq_idx] = 1.0\n",
    "\n",
    "        load_cells_seq_target = cells_load_seq[INPUT_SCREEN_COUNT:]\n",
    "        reference_cell_present_target = np.zeros((TARGET_SCREEN_COUNT))\n",
    "        neighbourhood_cell_rel_target = np.zeros((TARGET_SCREEN_COUNT, MAX_CELL_COUNT, 2))\n",
    "\n",
    "        for seq_idx in range(TARGET_SCREEN_COUNT):\n",
    "            reference_cell_active = False\n",
    "            cell_idx = 0\n",
    "            for cell in load_cells_seq_target[seq_idx]:\n",
    "                current_x = cell[0]\n",
    "                current_y = cell[1]\n",
    "                current_load = cell[2]\n",
    "                # If not reference cell add to neighbourhood\n",
    "                if not (current_x == ref_x and current_y == ref_y):\n",
    "                    # neighbourhood normalized by dividing by IMAGE_SIZE.\n",
    "                    # Subtract from 1 since cells that are closes have greated influence.\n",
    "                    neighbourhood_cell_rel_target[seq_idx, cell_idx, 0] = 1. - abs(ref_x - current_x) / IMAGE_SIZE\n",
    "                    neighbourhood_cell_rel_target[seq_idx, cell_idx, 1] = 1. - abs(ref_y - current_y) / IMAGE_SIZE\n",
    "                    cell_idx += 1\n",
    "                else:\n",
    "                    reference_cell_active = True\n",
    "            if reference_cell_active:\n",
    "                reference_cell_present_target[seq_idx] = 1.0\n",
    "\n",
    "        reference_cell_input = torch.tensor(reference_cell_input, dtype=torch.float32).unsqueeze(0)\n",
    "        reference_cell_present_input = torch.tensor(reference_cell_present_input, dtype=torch.float32).unsqueeze(0)\n",
    "        neighbourhood_cell_rel_input = torch.tensor(neighbourhood_cell_rel_input, dtype=torch.float32).unsqueeze(0)\n",
    "        neighbourhood_cell_load_input = torch.tensor(neighbourhood_cell_load_input, dtype=torch.float32).unsqueeze(0)\n",
    "        reference_cell_present_target = torch.tensor(reference_cell_present_target, dtype=torch.float32).unsqueeze(0)\n",
    "        neighbourhood_cell_rel_target = torch.tensor(neighbourhood_cell_rel_target, dtype=torch.float32).unsqueeze(0)\n",
    "\n",
    "        for seq_idx in range(INPUT_SCREEN_COUNT):\n",
    "            neighbourhood_influence = torch.zeros(BATCH_SIZE, 16)\n",
    "            for neighbourhood_cell_idx in range(MAX_CELL_COUNT):\n",
    "                output = neighbourhood_fully_connected(neighbourhood_cell_rel_input[:,seq_idx, neighbourhood_cell_idx, :].view(BATCH_SIZE, 2),\n",
    "                                              neighbourhood_cell_load_input[:,seq_idx, neighbourhood_cell_idx].view(BATCH_SIZE, 1))\n",
    "                neighbourhood_influence = torch.add(neighbourhood_influence, output)\n",
    "            # Concatonate neighbourhood with reference cell time series.\n",
    "            cat_ref_input = (torch.cat((reference_cell_input[:, seq_idx].view(BATCH_SIZE, 1),\n",
    "                                                reference_cell_present_input[:, seq_idx].view(BATCH_SIZE, 1)), dim=1))\n",
    "            encoder_input = torch.cat((cat_ref_input , neighbourhood_influence), dim=1).view(BATCH_SIZE, 1, 1 + 1+ 16)\n",
    "            if seq_idx==0:\n",
    "                encoder_hidden = torch.zeros(1, BATCH_SIZE, HIDDEN_SIZE, device=device)\n",
    "            encoder_output, encoder_hidden = encoder(encoder_input, encoder_hidden)\n",
    "\n",
    "        for seq_idx in range(TARGET_SCREEN_COUNT):\n",
    "            neighbourhood_influence = torch.zeros(BATCH_SIZE, 16)\n",
    "\n",
    "            for neighbourhood_cell_idx in range(MAX_CELL_COUNT):\n",
    "                output = neighbourhood_fully_connected_decoder(neighbourhood_cell_rel_target[:,seq_idx, neighbourhood_cell_idx, :].view(BATCH_SIZE, 2))\n",
    "                neighbourhood_influence = torch.add(neighbourhood_influence, output)\n",
    "\n",
    "            if seq_idx==0:\n",
    "                decoder_output, decoder_hidden = decoder(reference_cell_input[:, -1].view(BATCH_SIZE, 1),\n",
    "                                                         reference_cell_present_input[:, -1].view(BATCH_SIZE, 1),\n",
    "                                                         neighbourhood_influence.view(BATCH_SIZE, 16),\n",
    "                                                         encoder_hidden)\n",
    "                loss = criterion(decoder_output, reference_cell_target[:, seq_idx])\n",
    "            if random.random() > TEACHER_FORCING_PROB:\n",
    "                decoder_output, decoder_hidden = decoder(reference_cell_target[:, seq_idx - 1].view(BATCH_SIZE, 1),\n",
    "                                                         reference_cell_present_target[:, seq_idx -1].view(BATCH_SIZE, 1),\n",
    "                                                         neighbourhood_influence.view(BATCH_SIZE, 16),\n",
    "                                                         decoder_hidden)\n",
    "            else:\n",
    "                decoder_output, decoder_hidden = decoder(decoder_output.view(BATCH_SIZE, 1),\n",
    "                                                         reference_cell_present_target[:, seq_idx -1].view(BATCH_SIZE, 1),\n",
    "                                                         neighbourhood_influence.view(BATCH_SIZE, 16),\n",
    "                                                         decoder_hidden)        \n",
    "\n",
    "        \n",
    "    ################################\n",
    "    # DISPLAY\n",
    "    #################################\n",
    "    screen_draw = pygame.Surface((PIXELS, PIXELS))\n",
    "    \n",
    "    #print(cells_seq)\n",
    "    cells = cells_seq[screen_draw_idx]\n",
    "    #if len(cells) > 0:\n",
    "        #print(cell_loads)\n",
    "        #print(loads)\n",
    "\n",
    "        cell_loads = calculate_cell_load(cells, loads)\n",
    "\n",
    "        # Update screen\n",
    "    for cell in cell_loads:\n",
    "        color = (cell[2] * 2048) - 512\n",
    "        if color > 255:\n",
    "            color = 255\n",
    "        if color < 0:\n",
    "            color = 0\n",
    "        pygame.draw.rect(\n",
    "        screen_draw,\n",
    "        (color, 50, 0),\n",
    "        (\n",
    "            cell[0] * PIXELS_PER_BLOCK,\n",
    "            cell[1] * PIXELS_PER_BLOCK,\n",
    "            PIXELS_PER_BLOCK,\n",
    "            PIXELS_PER_BLOCK,\n",
    "        ),\n",
    "        )\n",
    "\n",
    "\n",
    "    e = pygame.event.poll()\n",
    "\n",
    "\n",
    "    if e.type == pygame.QUIT:\n",
    "        raise StopIteration\n",
    "    if e.type == pygame.MOUSEBUTTONDOWN:\n",
    "        leftclick, middleclick, rightclick = pygame.mouse.get_pressed()\n",
    "        x, y = e.pos\n",
    "        x_cell= int(x / PIXELS_PER_BLOCK)\n",
    "        y_cell = int(y / PIXELS_PER_BLOCK)\n",
    "        if leftclick:\n",
    "            cells = add_cell_if_not_exists((x_cell, y_cell), cells)\n",
    "        elif rightclick:\n",
    "            cells = remove_cell_if_exists((x_cell, y_cell), cells)            \n",
    "        draw_on = True\n",
    "        # Update cells\n",
    "        cells_seq[screen_draw_idx] = cells\n",
    "        \n",
    "        # Update all cell loads\n",
    "        for i, cells in enumerate(cells_seq):\n",
    "            cells_load_seq[i] = calculate_cell_load(cells, loads)\n",
    "    \n",
    "    if e.type == pygame.KEYDOWN:\n",
    "        if e.key == pygame.K_SPACE:\n",
    "            if freeze:\n",
    "                freeze = False\n",
    "            else:\n",
    "                freeze = True\n",
    "        if e.key ==  pygame.K_LEFT:\n",
    "            if screen_draw_idx > 0:\n",
    "                screen_draw_idx -= 1\n",
    "        if e.key ==  pygame.K_RIGHT:\n",
    "            if screen_draw_idx < SCREEN_COUNT - 1:\n",
    "                screen_draw_idx += 1\n",
    "    if e.type == pygame.MOUSEBUTTONUP:\n",
    "        draw_on = False\n",
    "    pygame.display.flip()\n",
    "    target_screen = pygame.surfarray.array3d(screen_draw)\n",
    "    display_img = block_img + target_screen\n",
    "    new_surf = pygame.pixelcopy.make_surface(display_img.astype(np.uint8))\n",
    "    screen.blit(new_surf, (0, 0))"
   ]
  },
  {
   "cell_type": "code",
   "execution_count": null,
   "metadata": {},
   "outputs": [],
   "source": [
    "cell_load_dataset.__getitem__(0)[0]\n"
   ]
  },
  {
   "cell_type": "code",
   "execution_count": null,
   "metadata": {},
   "outputs": [],
   "source": [
    "loss.data"
   ]
  },
  {
   "cell_type": "code",
   "execution_count": null,
   "metadata": {},
   "outputs": [],
   "source": [
    "random.random()"
   ]
  },
  {
   "cell_type": "code",
   "execution_count": null,
   "metadata": {},
   "outputs": [],
   "source": [
    "a.__getitem__(0)"
   ]
  },
  {
   "cell_type": "code",
   "execution_count": null,
   "metadata": {},
   "outputs": [],
   "source": [
    "cells_grid = np.zeros((CARRIER_FREQUENCY_COUNT, IMAGE_SIZE, IMAGE_SIZE), dtype=np.int64)"
   ]
  },
  {
   "cell_type": "code",
   "execution_count": null,
   "metadata": {},
   "outputs": [],
   "source": [
    "loads_grid = np.zeros((IMAGE_SIZE, IMAGE_SIZE), dtype=np.int64)"
   ]
  },
  {
   "cell_type": "code",
   "execution_count": null,
   "metadata": {},
   "outputs": [],
   "source": [
    "\n",
    "    "
   ]
  },
  {
   "cell_type": "code",
   "execution_count": null,
   "metadata": {},
   "outputs": [],
   "source": [
    "    def _square_dist(x):\n",
    "        load = np.square(x)\n",
    "        return  load / load.sum()"
   ]
  },
  {
   "cell_type": "code",
   "execution_count": null,
   "metadata": {},
   "outputs": [],
   "source": [
    "cells = [(20, 17), (3, 20), (20, 1), (1,2), (1,1)]\n",
    "loads = [(5, 1), (3, 1), (1, 1)]\n",
    "_calculate_load(cells, loads)\n",
    "\n"
   ]
  },
  {
   "cell_type": "code",
   "execution_count": null,
   "metadata": {},
   "outputs": [],
   "source": [
    "1.03 + 0.69 + 0.77 + 0.49"
   ]
  },
  {
   "cell_type": "code",
   "execution_count": null,
   "metadata": {},
   "outputs": [],
   "source": [
    "cell_association = np.zeros([LOAD_COUNT]) \n",
    "load_cells = np.zeros([CELL_COUNT])\n",
    "for i, load_loc in enumerate(LOAD_LOCATIONS):\n",
    "    diff_loc = CELL_LOCATIONS - load_loc \n",
    "    euclidean_dist = np.sqrt(np.sum(np.square(diff_loc), axis=1))\n",
    "    # Traffic is attributed to cell by square distance.\n",
    "    load_cell = square_dist(euclidean_dist)\n",
    "    load_cells = load_cells + load_cell\n",
    "    cell_association[i] = np.argmin(euclidean_dist)"
   ]
  },
  {
   "cell_type": "code",
   "execution_count": null,
   "metadata": {},
   "outputs": [],
   "source": [
    "euclidean_dist"
   ]
  },
  {
   "cell_type": "code",
   "execution_count": null,
   "metadata": {},
   "outputs": [],
   "source": [
    "load_cells"
   ]
  },
  {
   "cell_type": "code",
   "execution_count": null,
   "metadata": {},
   "outputs": [],
   "source": [
    "load_dist(euclidean_dist)"
   ]
  },
  {
   "cell_type": "code",
   "execution_count": null,
   "metadata": {},
   "outputs": [],
   "source": [
    "diff_loc"
   ]
  },
  {
   "cell_type": "code",
   "execution_count": null,
   "metadata": {},
   "outputs": [],
   "source": [
    "diff_loc"
   ]
  },
  {
   "cell_type": "code",
   "execution_count": null,
   "metadata": {},
   "outputs": [],
   "source": [
    "np.sum(np.square(diff_loc), axis=1)"
   ]
  },
  {
   "cell_type": "code",
   "execution_count": null,
   "metadata": {},
   "outputs": [],
   "source": [
    "A = np.matrix([\n",
    "    [0, 1, 0, 0],\n",
    "    [0, 0, 1, 1], \n",
    "    [0, 1, 0, 0],\n",
    "    [1, 0, 1, 0]],\n",
    "    dtype=np.float32\n",
    ")"
   ]
  },
  {
   "cell_type": "code",
   "execution_count": null,
   "metadata": {},
   "outputs": [],
   "source": []
  }
 ],
 "metadata": {
  "kernelspec": {
   "display_name": "Python 3",
   "language": "python",
   "name": "python3"
  },
  "language_info": {
   "codemirror_mode": {
    "name": "ipython",
    "version": 3
   },
   "file_extension": ".py",
   "mimetype": "text/x-python",
   "name": "python",
   "nbconvert_exporter": "python",
   "pygments_lexer": "ipython3",
   "version": "3.7.0"
  }
 },
 "nbformat": 4,
 "nbformat_minor": 2
}
